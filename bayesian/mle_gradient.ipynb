{
  "nbformat": 4,
  "nbformat_minor": 0,
  "metadata": {
    "colab": {
      "name": "mle_gradient.ipynb",
      "provenance": [],
      "collapsed_sections": [],
      "authorship_tag": "ABX9TyPABi5GSXJfguCXFHZHLGPt",
      "include_colab_link": true
    },
    "kernelspec": {
      "name": "python3",
      "display_name": "Python 3"
    },
    "language_info": {
      "name": "python"
    }
  },
  "cells": [
    {
      "cell_type": "markdown",
      "metadata": {
        "id": "view-in-github",
        "colab_type": "text"
      },
      "source": [
        "<a href=\"https://colab.research.google.com/github/kiakass/machine-learning/blob/main/bayesian/mle_gradient.ipynb\" target=\"_parent\"><img src=\"https://colab.research.google.com/assets/colab-badge.svg\" alt=\"Open In Colab\"/></a>"
      ]
    },
    {
      "cell_type": "code",
      "metadata": {
        "id": "Pqj1Iai4t8qQ"
      },
      "source": [
        ""
      ],
      "execution_count": null,
      "outputs": []
    },
    {
      "cell_type": "code",
      "metadata": {
        "id": "tkvZsb4Dt-ow"
      },
      "source": [
        "import numpy as np\n",
        "import math\n",
        "\n",
        "\n",
        "class MLE():\n",
        "    def __init__(self, samples, m, std, learning_rate, epochs, verbose=False):\n",
        "        \"\"\"\n",
        "        :param samples: samples for get MLE\n",
        "        :param learning_rate: alpha on weight update\n",
        "        :param epochs: training epochs\n",
        "        :param verbose: print status\n",
        "        \"\"\"\n",
        "        self._samples = samples\n",
        "        self._m = m\n",
        "        self._std = std\n",
        "        self._learning_rate = learning_rate\n",
        "        self._epochs = epochs\n",
        "        self._verbose = verbose\n",
        "\n",
        "\n",
        "    def likelihood(self, x, M):\n",
        "        \"\"\"\n",
        "        Probability Density Function is Normal distribution\n",
        "        PDF's y is same as likelihood\n",
        "\n",
        "        :param x:\n",
        "        :return: likelihood of input x (likelihood of input x is same as y of pdf)\n",
        "        \"\"\"\n",
        "        return (1 / math.sqrt(2*math.pi) * math.pow(self._std, 2)) * np.exp(-(np.power(x - M, 2) / (2*math.pow(self._std, 2))))\n",
        "\n",
        "\n",
        "    def fit(self):\n",
        "        \"\"\"\n",
        "        training estimator\n",
        "        M, which minimizes Likelihood, is obtained by the gradient descent method.\n",
        "        M is the MLE of the samples\n",
        "        \"\"\"\n",
        "\n",
        "        # init M\n",
        "        self._estimator = np.random.normal(self._m, self._std, 1)\n",
        "\n",
        "        # train while epochs\n",
        "        self._training_process = []\n",
        "        for epoch in range(self._epochs):\n",
        "            likelihood = np.prod(self.likelihood(self._samples, self._m))\n",
        "            prediction = np.prod(self.likelihood(self._samples, self._estimator))\n",
        "            cost = self.cost(likelihood, prediction)\n",
        "            self._training_process.append((epoch, cost))\n",
        "            self.update(self._samples, self._estimator)\n",
        "\n",
        "            # print status\n",
        "            if self._verbose == True and ((epoch + 1) % 10 == 0):\n",
        "                print(\"Iteration: %d ; cost = %.4f\" % (epoch + 1, cost))\n",
        "\n",
        "\n",
        "    def cost(self, likelihood, prediction):\n",
        "        \"\"\"\n",
        "        cost function\n",
        "        :param likelihood: likelihood of population\n",
        "        :param prediction: likelihood in samples\n",
        "        :return: the cost of optimizing the parameters\n",
        "        \"\"\"\n",
        "        return math.sqrt(likelihood - prediction)\n",
        "\n",
        "\n",
        "    def update(self, x, M):\n",
        "        \"\"\"\n",
        "        update in gradient descent\n",
        "        gradient is approximated\n",
        "        :param x: samples\n",
        "        :param M: estimator\n",
        "        \"\"\"\n",
        "        gradient = np.sum(np.exp(-(np.power(x - M, 2) / (2*math.pow(self._std, 2)))))\n",
        "        if self._m > self._estimator:\n",
        "            self._estimator += self._learning_rate * gradient\n",
        "        else:\n",
        "            self._estimator -= self._learning_rate * gradient\n",
        "\n",
        "\n",
        "    def get_mle(self):\n",
        "        \"\"\"\n",
        "        parameter getter\n",
        "        :return: estimator of MLE\n",
        "        \"\"\"\n",
        "        return self._estimator\n",
        "\n",
        "\n",
        "# run example\n",
        "if __name__ == \"__main__\":\n",
        "\n",
        "    # samples for MLE\n",
        "    samples = np.array([64, 64.5, 65, 65.5, 66])\n",
        "\n",
        "    # assumptions about the population\n",
        "    mean = np.array([65.0])\n",
        "    std = 5\n",
        "\n",
        "    # get MLE\n",
        "    estimator = MLE(samples, mean, std, learning_rate=0.1, epochs=30, verbose=True)\n",
        "    estimator.fit()\n",
        "    result = estimator.get_mle()\n",
        "    print(result)"
      ],
      "execution_count": null,
      "outputs": []
    }
  ]
}